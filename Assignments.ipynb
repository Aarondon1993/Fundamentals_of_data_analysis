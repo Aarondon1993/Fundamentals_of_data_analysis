{
 "cells": [
  {
   "cell_type": "markdown",
   "metadata": {},
   "source": [
    "# This Jupyter Notebook will be used to record all assignment for the Fundamentals of Data Analysis module\n",
    "\n",
    "## Aaron Donnelly\n",
    "## G00299531\n",
    "\n",
    "## Assignment 1 - 08OCT2020"
   ]
  },
  {
   "cell_type": "code",
   "execution_count": 1,
   "metadata": {},
   "outputs": [],
   "source": [
    "# First thing to do is define the function'counts' that requests any type of argument from the user [1]\n",
    "def counts(*args):\n",
    "# An empty dictionary is created to take the inputed values [2]  \n",
    "    freq= {}\n",
    "# A 'for' statement is used to define the parameters for adding to the frequency list    \n",
    "    for item in args:\n",
    "        if (item in freq):\n",
    "            freq [item] += 1\n",
    "        else:\n",
    "            freq [item] = 1\n",
    "\n",
    "    for key, value in freq.items():\n",
    "        print (key, \":\" ,value)\n"
   ]
  },
  {
   "cell_type": "code",
   "execution_count": 2,
   "metadata": {},
   "outputs": [
    {
     "name": "stdout",
     "output_type": "stream",
     "text": [
      "1 : 1\n",
      "2 : 4\n",
      "3 : 4\n",
      "4 : 1\n",
      "5 : 2\n",
      "i : 2\n",
      "shh : 2\n"
     ]
    }
   ],
   "source": [
    "counts(1,2,3,4,5,3,2,3,2,3,2,5,'i','i','shh','shh')"
   ]
  },
  {
   "cell_type": "markdown",
   "metadata": {},
   "source": [
    "## References\n",
    "***\n",
    "### 1- VanderPlas, J., 2016. A Whirlwind Tour of Python. 1st ed. California: O'Reilly media.\n",
    "### 2- geeksforgeeks. 2020. Counting the frequencies in a list using dictionary in Python. [ONLINE] Available at: https://www.geeksforgeeks.org/counting-the-frequencies-in-a-list-using-dictionary-in-python/. [Accessed 24 October 2020].\n",
    "***\n"
   ]
  },
  {
   "cell_type": "markdown",
   "metadata": {},
   "source": [
    "## Assignment 2- 02NOV2020"
   ]
  },
  {
   "cell_type": "code",
   "execution_count": 5,
   "metadata": {},
   "outputs": [
    {
     "name": "stdout",
     "output_type": "stream",
     "text": [
      "{1: 23, 2: 108, 3: 89, 4: 72, 5: 102, 6: 96, 7: 99, 8: 23, 9: 98, 10: 86, 11: 33, 12: 61, 13: 88, 14: 35, 15: 95, 16: 83, 17: 89, 18: 72, 19: 25, 20: 87, 21: 93, 22: 24, 23: 86, 24: 23, 25: 28, 26: 54, 27: 34, 28: 91, 29: 37, 30: 47, 31: 39, 32: 97, 33: 32, 34: 110, 35: 98, 36: 84, 37: 80, 38: 35, 39: 106, 40: 93, 41: 50, 42: 48, 43: 51, 44: 59, 45: 46, 46: 81, 47: 66, 48: 45, 49: 32, 50: 89, 51: 55, 52: 53, 53: 58, 54: 83, 55: 66, 56: 82, 57: 40, 58: 100, 59: 25, 60: 81, 61: 102, 62: 49, 63: 57, 64: 79, 65: 64, 66: 79, 67: 29, 68: 42, 69: 37, 70: 44, 71: 86, 72: 30, 73: 77, 74: 57, 75: 78, 76: 100, 77: 75, 78: 68, 79: 34, 80: 81, 81: 95, 82: 88, 83: 107, 84: 27, 85: 109, 86: 51, 87: 78, 88: 96, 89: 113, 90: 57, 91: 59, 92: 62, 93: 87, 94: 96, 95: 65, 96: 32, 97: 49, 98: 112, 99: 92, 100: 73}\n"
     ]
    }
   ],
   "source": [
    "# First we import numpy as we are going to use the random number generator from this library\n",
    "import numpy as np\n",
    "# Second we define the inputs of the function 'diceroll'. 'n' being the number of dice thrown, 'k' being the number of repeats\n",
    "def diceroll(n,k):\n",
    "# Next we define the 'for' loop. We use 'i' in range 'n' number of dice thrown \n",
    "    for i in range (n):\n",
    "    # we will now make 'i' i * 6 as we are assuming the dice has 6 sides\n",
    "        i= i*6\n",
    "    #Next we generate the random integer \n",
    "    x= np.random.randint(n,i,size=k)\n",
    "    # Next we re-arrange the numpy array into a dictionary\n",
    "    d= dict(enumerate(x.flatten(),1))\n",
    "    # Next we print the dictionary\n",
    "    print (d)\n",
    "    \n",
    " #Finally we test the function. We roll 20 dice 100 hundred times and we expect to get the sum of each diceroll for each repeat.\n",
    "diceroll(20,100)\n"
   ]
  }
 ],
 "metadata": {
  "kernelspec": {
   "display_name": "Python 3",
   "language": "python",
   "name": "python3"
  },
  "language_info": {
   "codemirror_mode": {
    "name": "ipython",
    "version": 3
   },
   "file_extension": ".py",
   "mimetype": "text/x-python",
   "name": "python",
   "nbconvert_exporter": "python",
   "pygments_lexer": "ipython3",
   "version": "3.7.4"
  }
 },
 "nbformat": 4,
 "nbformat_minor": 2
}
