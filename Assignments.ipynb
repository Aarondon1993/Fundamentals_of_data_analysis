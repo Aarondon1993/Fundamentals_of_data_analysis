{
 "cells": [
  {
   "cell_type": "markdown",
   "metadata": {},
   "source": [
    "# This Jupyter Notebook will be used to record all tasks for the Fundamentals of Data Analysis module.\n",
    "\n",
    "## Aaron Donnelly\n",
    "## G00299531\n",
    "\n",
    "## Assignment 1- Counts"
   ]
  },
  {
   "cell_type": "code",
   "execution_count": 1,
   "metadata": {},
   "outputs": [],
   "source": [
    "# First thing to do is define the function'counts' that requests any type of argument from the user [1]\n",
    "def counts(*args):\n",
    "# An empty dictionary is created to take the inputed values [2]  \n",
    "    freq= {}\n",
    "# A 'for' statement is used to define the parameters for adding to the frequency list    \n",
    "    for item in args:\n",
    "        if (item in freq):\n",
    "            freq [item] += 1\n",
    "        else:\n",
    "            freq [item] = 1\n",
    "\n",
    "    for key, value in freq.items():\n",
    "        print (key, \":\" ,value)\n"
   ]
  },
  {
   "cell_type": "code",
   "execution_count": 2,
   "metadata": {},
   "outputs": [
    {
     "name": "stdout",
     "output_type": "stream",
     "text": [
      "1 : 1\n",
      "2 : 4\n",
      "3 : 4\n",
      "4 : 1\n",
      "5 : 2\n",
      "i : 2\n",
      "shh : 2\n"
     ]
    }
   ],
   "source": [
    "counts(1,2,3,4,5,3,2,3,2,3,2,5,'i','i','shh','shh')"
   ]
  },
  {
   "cell_type": "markdown",
   "metadata": {},
   "source": [
    "## References\n",
    "***\n",
    "### 1- VanderPlas, J., 2016. A Whirlwind Tour of Python. 1st ed. California: O'Reilly media.\n",
    "### 2- geeksforgeeks. 2020. Counting the frequencies in a list using dictionary in Python. [ONLINE] Available at: https://www.geeksforgeeks.org/counting-the-frequencies-in-a-list-using-dictionary-in-python/. [Accessed 24 October 2020].\n",
    "***\n"
   ]
  },
  {
   "cell_type": "markdown",
   "metadata": {},
   "source": [
    "## Assignment 2- Diceroll"
   ]
  },
  {
   "cell_type": "code",
   "execution_count": 2,
   "metadata": {},
   "outputs": [
    {
     "name": "stdout",
     "output_type": "stream",
     "text": [
      "{1: 2, 2: 5, 3: 4, 4: 2, 5: 5, 6: 5, 7: 5, 8: 5, 9: 2, 10: 4}\n"
     ]
    }
   ],
   "source": [
    "# First we import numpy as we are going to use the random number generator from this library\n",
    "import numpy as np\n",
    "# Second we define the inputs of the function 'diceroll'. 'n' being the number of dice thrown, 'k' being the number of repeats\n",
    "def diceroll(k,n):\n",
    "# Next we define the 'for' loop. We use 'i' in range 'n' number of dice thrown \n",
    "    for i in range (k):\n",
    "    # we will now make 'i' i * 6 as we are assuming the dice has 6 sides\n",
    "        i= i*6\n",
    "    #Next we generate the random integer \n",
    "    x= np.random.randint(k,i,size=n)\n",
    "    # Next we re-arrange the numpy array into a dictionary\n",
    "    d= dict(enumerate(x.flatten(),1))\n",
    "    # Next we print the dictionary\n",
    "    print (d)\n",
    "    \n",
    " #Finally we test the function. We roll 20 dice 100 hundred times and we expect to get the sum of each diceroll for each repeat.\n",
    "diceroll(2,10)\n"
   ]
  },
  {
   "cell_type": "code",
   "execution_count": 78,
   "metadata": {},
   "outputs": [
    {
     "name": "stdout",
     "output_type": "stream",
     "text": [
      "{2: 9, 3: 9, 4: 8, 5: 3, 6: 14, 7: 8, 8: 7, 9: 9, 10: 13, 11: 10, 12: 10}\n"
     ]
    }
   ],
   "source": [
    "\n",
    "import numpy as np\n",
    "\n",
    "def diceroll(k,n):\n",
    " \n",
    "    for i in range (k+1):\n",
    "   \n",
    "        i= i*6\n",
    "    x= np.random.randint(k,i+1,size=n)\n",
    "   \n",
    "    freq = {}\n",
    "    \n",
    "    for item in x:\n",
    "        if (item in freq):\n",
    "            freq [item] += 1\n",
    "        else:\n",
    "            freq [item] = 1\n",
    "\n",
    "    print(dict(sorted(freq.items())))\n",
    "         \n",
    "diceroll(2,100)"
   ]
  },
  {
   "cell_type": "markdown",
   "metadata": {},
   "source": [
    "## Assignment 3 - The Binomial Distribution"
   ]
  },
  {
   "cell_type": "markdown",
   "metadata": {},
   "source": [
    "##### A Binomial Distribution forms as the result of obtaining data with only two possible outcomes. An example of this type of data would be a coin flip experiment. In a coin flip experiment the coin can either land on heads or tails that means two possible outcomes with a 50% chance of each outcome. Numpy offers a Binomial Distribution function in its .Random package. This function takes 3 inputs. N being the number of trials, p is the probability of success and size relates to the number of times the trial ran. The below code starts by first creating a random number generator (rng). This is achieved using the numpy.random package []. Seeing as the coin has two sides there is a 50% probability of obtaining a 'heads' when flipping. I simulate this using the binomial distribution i.e. two possible outcomes. I then use the .binomial function to simulate flipping a coin 100 times with the experiment repeating 1000 times as per the task. Finally I use the Seaborn package to plot the resulting outcome in an effort to demonstarte the characteristic bell shaped curve. Note: Seeing as this code utilises a random number generator the values will change everytime this code is run. "
   ]
  },
  {
   "cell_type": "code",
   "execution_count": 4,
   "metadata": {},
   "outputs": [
    {
     "name": "stdout",
     "output_type": "stream",
     "text": [
      "[42 56 53 53 56 53 50 50 53 46 56 54 39 52 62 48 51 53 48 43 52 42 49 53\n",
      " 63 56 45 51 61 50 40 52 46 55 49 54 53 50 45 57 57 53 34 50 51 49 50 55\n",
      " 44 51 48 51 46 54 55 45 51 53 44 48 50 47 56 52 49 47 48 45 44 42 49 47\n",
      " 55 38 41 54 53 49 48 51 46 59 51 49 50 55 45 48 46 60 48 43 55 50 49 54\n",
      " 55 50 59 47 52 53 51 57 50 52 55 54 56 54 58 45 55 53 53 52 46 42 53 50\n",
      " 47 49 54 54 60 42 52 59 38 56 53 54 43 50 48 55 57 54 56 46 54 48 49 48\n",
      " 51 47 53 57 56 51 41 54 49 62 51 49 52 54 46 51 39 39 53 62 41 47 57 54\n",
      " 49 49 49 49 52 42 46 51 48 48 57 48 48 61 45 54 53 48 52 51 52 59 55 48\n",
      " 52 52 39 51 64 54 44 54 53 50 52 47 56 60 58 46 56 47 48 55 46 54 54 45\n",
      " 52 51 57 40 56 54 57 53 41 38 48 52 43 53 52 56 52 40 56 51 53 40 39 53\n",
      " 47 45 46 55 48 45 44 50 51 46 52 47 61 49 49 45 49 46 48 55 45 48 54 49\n",
      " 49 47 49 51 54 44 54 55 51 52 50 50 39 42 52 51 56 47 59 56 56 51 55 47\n",
      " 53 47 49 55 40 51 46 39 53 51 54 56 45 47 51 46 46 49 53 59 54 47 44 44\n",
      " 48 46 52 39 47 45 47 55 46 56 55 54 40 48 41 47 36 50 55 37 49 52 61 52\n",
      " 51 53 46 56 51 56 40 50 43 49 45 44 49 47 51 57 50 51 52 51 54 56 45 54\n",
      " 51 44 49 52 48 50 55 53 44 42 44 55 52 49 52 47 51 55 41 55 43 51 57 50\n",
      " 55 51 49 46 44 45 51 38 64 59 45 44 51 49 51 60 53 48 52 47 47 35 50 55\n",
      " 48 49 54 47 51 48 49 57 54 49 47 56 50 46 46 49 54 48 52 46 48 52 52 53\n",
      " 64 45 45 53 55 46 48 64 56 45 56 54 42 47 46 35 46 52 48 52 41 53 44 49\n",
      " 50 50 52 44 41 39 55 48 53 43 53 42 55 51 49 45 51 52 49 48 55 45 53 48\n",
      " 47 45 45 50 48 46 57 56 47 47 46 45 48 46 47 48 57 44 49 49 49 56 48 49\n",
      " 52 48 40 50 58 53 51 52 49 42 57 49 51 44 44 45 55 44 52 52 47 56 55 52\n",
      " 52 54 43 54 42 60 46 51 52 46 52 48 57 46 52 49 53 55 45 44 52 53 55 52\n",
      " 57 46 53 40 36 48 41 48 46 50 54 50 54 43 54 51 42 41 55 56 45 52 52 44\n",
      " 58 54 45 41 48 44 48 54 42 51 51 62 47 52 55 49 60 51 55 48 35 48 52 48\n",
      " 57 52 47 45 48 59 46 47 49 48 58 51 47 48 55 53 52 48 49 48 52 50 54 50\n",
      " 44 47 46 50 51 55 49 47 52 45 50 58 49 54 55 51 40 53 57 48 52 40 59 40\n",
      " 53 51 45 42 49 50 54 55 42 48 50 51 48 48 46 48 48 44 47 53 50 46 46 45\n",
      " 56 49 46 46 55 52 50 47 60 43 53 50 52 53 51 47 42 42 48 49 51 53 49 45\n",
      " 46 50 53 40 52 51 47 49 45 49 49 51 51 41 45 48 52 55 52 52 51 56 47 52\n",
      " 65 56 49 49 49 45 41 57 52 48 44 48 52 49 48 48 51 45 60 56 43 44 52 46\n",
      " 57 51 60 42 50 55 42 57 46 46 51 46 48 50 59 52 46 47 60 55 46 47 49 54\n",
      " 51 48 53 47 47 48 46 53 52 58 51 47 48 70 46 48 53 49 56 45 50 54 54 51\n",
      " 46 55 63 48 46 52 51 49 46 51 56 50 51 54 53 52 45 43 47 49 53 41 54 45\n",
      " 49 46 52 52 57 44 47 52 48 45 56 47 50 41 42 42 49 53 45 50 43 40 46 48\n",
      " 49 49 40 55 41 51 60 57 50 48 50 51 56 50 52 49 51 60 41 52 52 46 52 54\n",
      " 58 52 48 58 40 46 53 54 52 47 46 52 47 54 51 53 49 39 52 43 47 53 46 44\n",
      " 40 53 46 45 47 58 49 57 48 44 54 55 49 51 46 42 48 50 43 45 51 51 58 46\n",
      " 49 48 58 56 43 44 51 53 61 53 49 56 52 47 46 47 49 46 43 48 60 52 57 39\n",
      " 36 56 49 53 47 47 51 59 52 63 53 54 53 46 44 46 51 45 52 45 48 50 50 46\n",
      " 46 51 53 47 60 60 45 49 43 61 47 51 55 43 51 47 57 46 47 55 50 52 50 44\n",
      " 49 46 59 50 45 50 54 47 50 45 48 44 47 57 54 49]\n"
     ]
    },
    {
     "data": {
      "text/plain": [
       "<matplotlib.axes._subplots.AxesSubplot at 0x16c470344c8>"
      ]
     },
     "execution_count": 4,
     "metadata": {},
     "output_type": "execute_result"
    },
    {
     "data": {
      "image/png": "[encoded data removed]",
      "text/plain": [
       "<Figure size 432x288 with 1 Axes>"
      ]
     },
     "metadata": {
      "needs_background": "light"
     },
     "output_type": "display_data"
    }
   ],
   "source": [
    "# First we inport numpy that will allow us to generate a binomial distribution.\n",
    "import numpy as np\n",
    "# We now import seaborn to generate the binomial distribution, this will give us the line fit that will show the classic\n",
    "# bell shaped curve\n",
    "import seaborn as sns\n",
    "\n",
    "# We now create the random number generator (rng)[1]\n",
    "rng= np.random.default_rng()\n",
    "# We now enter the parameters into the binomial distribution function[2]. This function takes 3 inputs. 'n' being the number\n",
    "# of times the coin is flipped. 'p' being the probability of a success, for us this is 0.5 (50% chance of success).\n",
    "# 'size' being the number of times the trial is repeated. For this assignment the coin will be flipped 100 times and the \n",
    "# experiment will be repeated 1,000\n",
    "x= rng.binomial(100, 0.5, size = 1000)\n",
    "# We now display the resulting array (Note: This will change each time this code is run due to the rng)\n",
    "print (x)\n",
    "# We now plot the array using the .distplot function of seaborn [3].\n",
    "sns.distplot(x)"
   ]
  },
  {
   "cell_type": "markdown",
   "metadata": {},
   "source": [
    "## Assignment 2- Simpsons Paradox"
   ]
  },
  {
   "cell_type": "markdown",
   "metadata": {},
   "source": [
    "##### Simpsons paradox is a senario that arises in a humans interpretation of statisical data regarding real life senarios. This statistical paradox occurs when individual data series in an overall dataset trend in one particular way but either reverse, or in some cases disappear when the data is combined into the full dataset. The most famous of these was a study carried out in Stanford university with regards to new emmissions and the sexes of the applicants. Upon initial investigation it appeared that the university was biased in favour of male applicants however when the data was more closely observed it showed that the university was in fact biased in favour of female applicants. Below are two pieces of code which demonstrates how a Simpsons paradox looks when plotted. The first of these two plots are generated using 2 simple lists which are x and y values. The .regplot function of seaborn is then used to display a plot of the data with a trend line demonstrating how the overall trend is downward. It can be seen however from the plot that the two theoretical variables are each on their own trending up. The second plot simulates Simpsons paradox using 4 variables. The .linspacefunction of numpy is used to generate 4 data points as 'x' values. A function is then applied to the 'x' values to generate the 'y' values. Three more data series' are generated using the same technique but adjusting the addition value on the 'x' value. This again shows a plot that is charactertistic of Simpsons paradox. All data series' on their own are trending upwards but when viewed together on one plot they are all trending downwards."
   ]
  },
  {
   "cell_type": "code",
   "execution_count": 3,
   "metadata": {},
   "outputs": [
    {
     "data": {
      "text/plain": [
       "<matplotlib.axes._subplots.AxesSubplot at 0x274cbebc108>"
      ]
     },
     "execution_count": 3,
     "metadata": {},
     "output_type": "execute_result"
    },
    {
     "data": {
      "image/png": "[encoded data removed]",
      "text/plain": [
       "<Figure size 432x288 with 1 Axes>"
      ]
     },
     "metadata": {
      "needs_background": "light"
     },
     "output_type": "display_data"
    }
   ],
   "source": [
    "import numpy as np\n",
    "import seaborn as sns\n",
    "import pandas as pd\n",
    "\n",
    "x= [1,2,3,4,8,9,10,11]\n",
    "\n",
    "y= [6,7,8,9,1,2,3,4]\n",
    "\n",
    "sns.regplot(x,y)\n",
    "\n",
    "\n",
    "\n",
    "\n"
   ]
  },
  {
   "cell_type": "code",
   "execution_count": 8,
   "metadata": {},
   "outputs": [
    {
     "data": {
      "text/plain": [
       "<matplotlib.axes._subplots.AxesSubplot at 0x274cc1a3148>"
      ]
     },
     "execution_count": 8,
     "metadata": {},
     "output_type": "execute_result"
    },
    {
     "data": {
      "image/png": "[encoded data removed]",
      "text/plain": [
       "<Figure size 432x288 with 1 Axes>"
      ]
     },
     "metadata": {
      "needs_background": "light"
     },
     "output_type": "display_data"
    }
   ],
   "source": [
    "x1= np.linspace(1,24, num=4)\n",
    "x2= np.linspace(25,50, num=4)\n",
    "x3= np.linspace(51,75, num=4)\n",
    "x4= np.linspace(76,100, num=4)\n",
    "y1= 2*x1+45\n",
    "y2= 2*x1+35\n",
    "y3= 2*x1+25\n",
    "y4= 2*x1+5\n",
    "\n",
    "sns.scatterplot(x1,y1)\n",
    "sns.scatterplot(x2,y2) \n",
    "sns.scatterplot(x3,y3) \n",
    "sns.scatterplot(x4,y4) \n",
    "\n"
   ]
  }
 ],
 "metadata": {
  "kernelspec": {
   "display_name": "Python 3",
   "language": "python",
   "name": "python3"
  },
  "language_info": {
   "codemirror_mode": {
    "name": "ipython",
    "version": 3
   },
   "file_extension": ".py",
   "mimetype": "text/x-python",
   "name": "python",
   "nbconvert_exporter": "python",
   "pygments_lexer": "ipython3",
   "version": "3.7.4"
  }
 },
 "nbformat": 4,
 "nbformat_minor": 2
}
