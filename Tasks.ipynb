{
 "cells": [
  {
   "attachments": {
    "image.png": {
     "image/png": "[encoded data removed]"
    }
   },
   "cell_type": "markdown",
   "metadata": {},
   "source": [
    "![image.png](attachment:image.png)"
   ]
  },
  {
   "cell_type": "markdown",
   "metadata": {},
   "source": [
    "# This Jupyter Notebook will be used to record all tasks for the Fundamentals of Data Analysis module.\n",
    "\n",
    "## Aaron Donnelly\n",
    "## G00299531\n",
    "\n",
    "## Task 1- Counts"
   ]
  },
  {
   "cell_type": "markdown",
   "metadata": {},
   "source": [
    "##### The following task will take an input from a user and return a dictionary counting the number of times a particular argument was inputted by the user. This piece of code utilises an empty dictionary at first and then appends the users input to the dictionary and finally displaying the completed dictionary. "
   ]
  },
  {
   "cell_type": "code",
   "execution_count": 1,
   "metadata": {},
   "outputs": [],
   "source": [
    "# First thing to do is define the function'counts' that requests any type of argument from the user [1]\n",
    "def counts(*args):\n",
    "# An empty dictionary is created to take the inputed values [2]  \n",
    "    freq= {}\n",
    "# A 'for' statement is used to define the parameters for adding to the frequency list    \n",
    "    for item in args:\n",
    "        if (item in freq):\n",
    "            freq [item] += 1\n",
    "        else:\n",
    "            freq [item] = 1\n",
    "\n",
    "    for key, value in freq.items():\n",
    "        print (key, \":\" ,value)\n"
   ]
  },
  {
   "cell_type": "code",
   "execution_count": 2,
   "metadata": {},
   "outputs": [
    {
     "name": "stdout",
     "output_type": "stream",
     "text": [
      "1 : 1\n",
      "2 : 4\n",
      "3 : 4\n",
      "4 : 1\n",
      "5 : 2\n",
      "i : 2\n",
      "shh : 2\n"
     ]
    }
   ],
   "source": [
    "counts(1,2,3,4,5,3,2,3,2,3,2,5,'i','i','shh','shh')"
   ]
  },
  {
   "cell_type": "markdown",
   "metadata": {},
   "source": [
    "## Task 2- Diceroll"
   ]
  },
  {
   "cell_type": "markdown",
   "metadata": {},
   "source": [
    "##### The following function is a diceroll simulator. This simulator takes two inputs 'k' and 'n'. 'k' is the number of dice that the user is going to throw and 'n' is the number of times the user is going to throw does dice. This code uses a random.randint function from the numpy.random library inside a 'for' loop.  The range will be 'k'+1 ,the number of dice thrown + 1 due to zero indexing. This k value must then be multplied by 6 assuming that the dice has 6 sides to give the total number of possible values the dice will land on. We then use the randint function to generate the results. The range here will be k+1 to the maximum possible outcome of the combined k values i. i +1 is used as this function uses zero indexing. The results are then appended to an empty dictionary like task 1 and the dictionary is sorted."
   ]
  },
  {
   "cell_type": "code",
   "execution_count": 3,
   "metadata": {},
   "outputs": [
    {
     "name": "stdout",
     "output_type": "stream",
     "text": [
      "{2: 5, 3: 9, 4: 6, 5: 8, 6: 12, 7: 10, 8: 10, 9: 12, 10: 2, 11: 9, 12: 17}\n"
     ]
    }
   ],
   "source": [
    "# Firstly we import the python library Numpy as np [3]\n",
    "import numpy as np\n",
    "# Next we define the name of the function and the required inputs\n",
    "def diceroll(k,n):\n",
    " # Next we create the for loop in the range of the number of dice+1 to account for zero indexing\n",
    "    for i in range (k+1):\n",
    "   # We mulitply the i value by 6 to include the maximum sum of the face values of the dice thrown\n",
    "        i= i*6\n",
    "    x= np.random.randint(k,i+1,size=n)\n",
    "   # We create an empty dictionary [2]\n",
    "    freq = {}\n",
    "    # We append the outputs to the dictionary\n",
    "    for item in x:\n",
    "        if (item in freq):\n",
    "            freq [item] += 1\n",
    "        else:\n",
    "            freq [item] = 1\n",
    "     # We sort the dictionary [4]\n",
    "    print(dict(sorted(freq.items())))\n",
    " # We run the function        \n",
    "diceroll(2,100)"
   ]
  },
  {
   "cell_type": "markdown",
   "metadata": {},
   "source": [
    "## Task 3 - The Binomial Distribution"
   ]
  },
  {
   "cell_type": "markdown",
   "metadata": {},
   "source": [
    "##### A Binomial Distribution forms as the result of obtaining data with only two possible outcomes. An example of this type of data would be a coin flip experiment. In a coin flip experiment the coin can either land on heads or tails that means two possible outcomes with a 50% chance of each outcome. Numpy offers a Binomial Distribution function in its .Random package. This function takes 3 inputs. N being the number of trials, p is the probability of success and size relates to the number of times the trial ran. The below code starts by first creating a random number generator (rng). This is achieved using the numpy.random package. Seeing as the coin has two sides there is a 50% probability of obtaining a 'heads' when flipping. I simulate this using the binomial distribution i.e. two possible outcomes. I then use the .binomial function to simulate flipping a coin 100 times with the experiment repeating 1000 times as per the task. Finally I use the Seaborn package to plot the resulting outcome in an effort to demonstarte the characteristic bell shaped curve. Note: Seeing as this code utilises a random number generator the values will change everytime this code is run. "
   ]
  },
  {
   "cell_type": "code",
   "execution_count": 7,
   "metadata": {},
   "outputs": [
    {
     "name": "stdout",
     "output_type": "stream",
     "text": [
      "[52 44 54 47 46 48 46 53 52 48 47 45 55 48 49 47 50 53 57 55 59 51 53 46\n",
      " 52 52 53 56 55 52 49 46 51 52 46 49 45 54 55 53 53 44 52 57 54 50 54 47\n",
      " 54 48 53 44 50 58 43 47 51 56 44 44 44 59 46 53 52 51 53 51 47 51 51 48\n",
      " 52 46 48 50 42 46 48 48 49 58 55 59 46 45 49 53 54 46 61 54 52 52 48 48\n",
      " 48 40 51 55 54 42 53 53 42 45 57 56 47 55 46 53 50 48 47 59 42 42 44 51\n",
      " 56 53 54 52 54 53 55 47 50 53 44 51 57 48 46 51 50 48 55 44 45 53 60 47\n",
      " 51 46 43 52 42 60 52 40 50 51 45 48 43 50 47 55 58 47 51 46 54 46 52 50\n",
      " 42 55 53 50 43 50 44 46 46 44 53 54 47 46 47 51 47 49 46 56 54 60 49 57\n",
      " 54 53 55 47 44 51 45 52 53 48 45 50 43 42 40 54 52 44 55 55 41 51 47 47\n",
      " 49 51 47 54 56 52 45 47 47 48 56 48 42 46 55 38 56 55 45 41 50 40 46 41\n",
      " 46 55 52 56 41 50 53 50 55 49 50 57 54 48 52 46 57 45 55 46 53 56 57 54\n",
      " 41 47 56 53 50 59 59 40 52 49 60 54 44 49 50 59 59 43 46 53 42 48 47 50\n",
      " 49 44 47 50 60 42 48 50 47 51 59 42 40 45 52 49 50 48 50 47 46 41 49 50\n",
      " 47 43 49 48 49 47 53 51 49 50 57 58 48 43 50 51 49 55 56 48 49 44 53 50\n",
      " 57 48 48 60 47 53 54 47 40 50 47 46 50 44 48 55 53 49 51 48 47 59 47 48\n",
      " 62 49 44 48 47 51 50 47 54 50 52 53 52 62 48 46 43 54 45 49 55 47 58 48\n",
      " 53 47 52 54 54 52 56 54 46 56 52 48 48 41 53 46 51 54 51 48 55 48 54 50\n",
      " 45 54 51 41 52 52 42 48 48 43 50 55 47 55 55 46 48 57 47 46 52 46 45 56\n",
      " 53 45 56 47 52 52 46 49 51 55 51 49 52 39 48 52 48 51 54 53 56 54 47 49\n",
      " 53 46 47 44 53 54 54 41 49 50 49 49 50 56 48 48 48 62 49 48 56 53 51 47\n",
      " 51 58 49 61 48 50 47 51 53 42 52 53 53 53 43 54 58 59 44 56 47 61 54 53\n",
      " 44 51 47 54 43 45 47 46 46 53 46 50 41 53 48 58 63 54 43 60 49 50 42 56\n",
      " 51 44 41 45 47 52 49 50 40 58 55 54 46 55 42 52 51 50 51 54 57 49 38 49\n",
      " 51 47 55 55 43 48 50 40 45 52 47 42 52 43 51 53 57 48 46 50 47 53 55 56\n",
      " 54 50 49 48 48 52 49 54 43 50 49 47 50 49 50 49 49 49 44 43 43 45 45 55\n",
      " 48 43 49 42 55 46 47 52 55 52 53 38 55 46 48 55 48 60 49 40 54 53 56 50\n",
      " 52 44 42 53 53 46 41 59 40 56 42 55 59 41 58 52 43 46 60 43 55 41 50 46\n",
      " 50 50 62 42 48 55 44 53 44 53 54 51 57 47 48 51 54 36 45 50 42 53 52 50\n",
      " 42 46 66 49 43 61 47 44 52 44 51 46 50 53 50 53 45 46 58 54 43 45 46 49\n",
      " 53 46 55 41 56 50 54 45 45 57 37 44 40 63 56 48 57 54 52 58 54 40 49 55\n",
      " 53 47 48 48 64 48 55 47 53 51 49 42 50 54 57 54 55 51 54 56 48 50 56 51\n",
      " 57 51 47 39 38 45 42 51 45 53 46 43 49 44 49 52 52 47 66 43 47 49 57 47\n",
      " 48 47 56 47 40 59 48 44 49 50 55 51 44 41 52 49 49 51 52 51 52 44 50 47\n",
      " 48 44 48 53 49 66 48 54 46 60 44 54 51 50 54 52 48 55 55 58 50 49 52 48\n",
      " 48 53 48 49 41 54 39 49 55 52 52 52 57 50 52 50 58 51 57 52 53 57 53 52\n",
      " 48 50 60 46 42 59 58 52 51 44 42 49 47 53 50 52 53 48 58 51 44 49 49 58\n",
      " 45 42 44 48 47 56 48 52 61 46 44 54 48 47 54 56 57 47 49 52 51 54 43 45\n",
      " 54 46 45 46 50 53 61 57 48 50 43 57 53 52 48 52 46 53 42 50 51 42 53 49\n",
      " 51 41 57 42 56 51 43 55 51 56 43 46 50 54 50 44 57 49 53 54 52 47 39 50\n",
      " 49 51 52 52 48 52 51 58 49 48 51 40 43 54 53 48 48 56 49 56 45 56 47 43\n",
      " 53 45 45 39 48 49 47 46 50 57 53 52 48 51 53 49 46 48 48 52 58 55 39 52\n",
      " 51 49 44 52 51 51 60 53 45 60 59 51 49 45 52 51]\n"
     ]
    },
    {
     "data": {
      "text/plain": [
       "<matplotlib.axes._subplots.AxesSubplot at 0x2c66b706648>"
      ]
     },
     "execution_count": 7,
     "metadata": {},
     "output_type": "execute_result"
    },
    {
     "data": {
      "image/png": "[encoded data removed]",
      "text/plain": [
       "<Figure size 432x288 with 1 Axes>"
      ]
     },
     "metadata": {
      "needs_background": "light"
     },
     "output_type": "display_data"
    }
   ],
   "source": [
    "# First we import numpy to allow us to generate a binomial distribution [3].\n",
    "import numpy as np\n",
    "# We now import seaborn to generate the binomial distribution, this will give us the line fit that will show the classic\n",
    "# bell shaped curve [5]\n",
    "import seaborn as sns\n",
    "\n",
    "# We now create the random number generator (rng)[6]\n",
    "rng= np.random.default_rng()\n",
    "# We now enter the parameters into the binomial distribution function[7]. This function takes 3 inputs. 'n' being the number\n",
    "# of times the coin is flipped. 'p' being the probability of a success, for us this is 0.5 (50% chance of success).\n",
    "# 'size' being the number of times the trial is repeated. For this assignment the coin will be flipped 100 times and the \n",
    "# experiment will be repeated 1,000\n",
    "x= rng.binomial(100, 0.5, size = 1000)\n",
    "# We now display the resulting array (Note: This will change each time this code is run due to the rng)\n",
    "print (x)\n",
    "# We now plot the array using the .distplot function of seaborn.\n",
    "sns.distplot(x)"
   ]
  },
  {
   "cell_type": "markdown",
   "metadata": {},
   "source": [
    "## Task 4- Simpsons Paradox"
   ]
  },
  {
   "cell_type": "markdown",
   "metadata": {},
   "source": [
    "##### Simpsons paradox is a senario that arises in a humans interpretation of statisical data regarding real life senarios. This statistical paradox occurs when individual data series in an overall dataset trend in one particular way but either reverse, or in some cases disappear when the data is combined into the full dataset [8]. The most famous of these was a study carried out in Stanford university with regards to new emmissions and the sexes of the applicants. Upon initial investigation it appeared that the university was biased in favour of male applicants however when the data was more closely observed it showed that the university was in fact biased in favour of female applicants. Below are two pieces of code which demonstrates how a Simpsons paradox looks when plotted. The first of these two plots are generated using 2 simple lists which are x and y values. The .regplot function of seaborn is then used to display a plot of the data with a trend line demonstrating how the overall trend is downward. It can be seen however from the plot that the two theoretical variables are each on their own trending up. The second plot simulates Simpsons paradox using 4 variables. The .linspacefunction of numpy is used to generate 4 data points as 'x' values. A function is then applied to the 'x' values to generate the 'y' values. Three more data series' are generated using the same technique but adjusting the addition value on the 'x' value. This again shows a plot that is charactertistic of Simpsons paradox. All data series' on their own are trending upwards but when viewed together on one plot they are all trending downwards."
   ]
  },
  {
   "cell_type": "code",
   "execution_count": 5,
   "metadata": {},
   "outputs": [
    {
     "data": {
      "text/plain": [
       "<matplotlib.axes._subplots.AxesSubplot at 0x2c66a5f24c8>"
      ]
     },
     "execution_count": 5,
     "metadata": {},
     "output_type": "execute_result"
    },
    {
     "data": {
      "image/png": "[encoded data removed]",
      "text/plain": [
       "<Figure size 432x288 with 1 Axes>"
      ]
     },
     "metadata": {
      "needs_background": "light"
     },
     "output_type": "display_data"
    }
   ],
   "source": [
    "#Import numpy and seaborn [3] [5]\n",
    "import numpy as np\n",
    "import seaborn as sns\n",
    "\n",
    "\n",
    "x= [1,2,3,4,8,9,10,11]\n",
    "\n",
    "y= [6,7,8,9,1,2,3,4]\n",
    "\n",
    "sns.regplot(x,y)\n",
    "\n",
    "\n",
    "\n",
    "\n"
   ]
  },
  {
   "cell_type": "code",
   "execution_count": 6,
   "metadata": {},
   "outputs": [
    {
     "data": {
      "text/plain": [
       "<matplotlib.axes._subplots.AxesSubplot at 0x2c66b65d788>"
      ]
     },
     "execution_count": 6,
     "metadata": {},
     "output_type": "execute_result"
    },
    {
     "data": {
      "image/png": "[encoded data removed]",
      "text/plain": [
       "<Figure size 432x288 with 1 Axes>"
      ]
     },
     "metadata": {
      "needs_background": "light"
     },
     "output_type": "display_data"
    }
   ],
   "source": [
    "x1= np.linspace(1,24, num=4)\n",
    "x2= np.linspace(25,50, num=4)\n",
    "x3= np.linspace(51,75, num=4)\n",
    "x4= np.linspace(76,100, num=4)\n",
    "y1= 2*x1+45\n",
    "y2= 2*x1+35\n",
    "y3= 2*x1+25\n",
    "y4= 2*x1+5\n",
    "\n",
    "sns.scatterplot(x1,y1)\n",
    "sns.scatterplot(x2,y2) \n",
    "sns.scatterplot(x3,y3) \n",
    "sns.scatterplot(x4,y4) \n",
    "\n"
   ]
  },
  {
   "cell_type": "markdown",
   "metadata": {},
   "source": [
    "## References\n",
    "***\n",
    "### 1- VanderPlas, J., 2016. A Whirlwind Tour of Python. 1st ed. California: O'Reilly media.\n",
    "### 2- geeksforgeeks. 2020. Counting the frequencies in a list using dictionary in Python. [ONLINE] Available at: https://www.geeksforgeeks.org/counting-the-frequencies-in-a-list-using-dictionary-in-python/. [Accessed 24 October 2020].\n",
    "### 3- Numpy. 2020. Numpy. [ONLINE] Available at: https://numpy.org/. [Accessed 3 November 2020].\n",
    "### 4- Career Karma. 2020. How to Sort a Dictionary by Value in Python. [ONLINE] Available at: https://careerkarma.com/blog/python-sort-a-dictionary-by-value/#:~:text=To%20sort%20a%20dictionary%20by%20value%20in%20Python%20you%20can,Dictionaries%20are%20unordered%20data%20structures.. [Accessed 14 November 2020].\n",
    "### 5- Seaborn. 2020. seaborn: statistical data visualization. [ONLINE] Available at: https://seaborn.pydata.org/. [Accessed 16 November 2020].\n",
    "### 6- Numpy. 2020. Random sampling (numpy.random). [ONLINE] Available at: https://numpy.org/doc/stable/reference/random/index.html. [Accessed 16 November 2020].\n",
    "### 7- Numpy. 2020. numpy.random.Generator.binomial. [ONLINE] Available at: https://numpy.org/doc/stable/reference/random/generated/numpy.random.Generator.binomial.html#numpy.random.Generator.binomial. [Accessed 20 November 2020].\n",
    "### 8-Towards Data Science. 2020. Simpson’s Paradox: How to Prove Opposite Arguments with the Same Data. [ONLINE] Available at: https://towardsdatascience.com/. [Accessed 12 December 2020]."
   ]
  },
  {
   "cell_type": "markdown",
   "metadata": {},
   "source": [
    "# Thank you for taking the time to read my Tasks Jupyter Notebook\n",
    "# Happy Christmas!"
   ]
  }
 ],
 "metadata": {
  "kernelspec": {
   "display_name": "Python 3",
   "language": "python",
   "name": "python3"
  },
  "language_info": {
   "codemirror_mode": {
    "name": "ipython",
    "version": 3
   },
   "file_extension": ".py",
   "mimetype": "text/x-python",
   "name": "python",
   "nbconvert_exporter": "python",
   "pygments_lexer": "ipython3",
   "version": "3.7.4"
  }
 },
 "nbformat": 4,
 "nbformat_minor": 2
}
